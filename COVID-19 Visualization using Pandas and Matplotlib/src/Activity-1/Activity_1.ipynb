{
 "cells": [
  {
   "cell_type": "markdown",
   "metadata": {},
   "source": [
    "## Importing Libraries and Dataset 🚀\n",
    "\n",
    "We start of by importing the necessary libraries\n"
   ]
  },
  {
   "cell_type": "code",
   "execution_count": 4,
   "metadata": {},
   "outputs": [
    {
     "name": "stderr",
     "output_type": "stream",
     "text": [
      "UsageError: unrecognized arguments: # To include the plot(frontend) just besides the code(backend)\n"
     ]
    }
   ],
   "source": [
    "# Loading our Libraries\n",
    "import pandas as pd # Used for handling the dataset\n",
    "import matplotlib.pyplot as plt # Used for plottig the analysed dataset\n",
    "\n",
    "# Setting Layout\n",
    "%matplotlib inline # To include the plot(frontend) just besides the code(backend)\n",
    "plt.style.use('fivethirtyeight') # Setting a beautiful style for our plots"
   ]
  },
  {
   "cell_type": "markdown",
   "metadata": {},
   "source": [
    "## Importing the Dataset \n",
    "\n",
    "### Mini-tasks:\n",
    "\n",
    "* **A** : read the .csv file from url 'https://raw.githubusercontent.com/datasets/covid-19/master/data/countries-aggregated.csv' and also parse the Date columns\n",
    "<details>\n",
    "    <summary>Hint</summary>\n",
    "    Give additional second argument parse_dates=['Date'] , inside read_csv command\n",
    "</details>\n",
    "<br>\n",
    "\n",
    "* **B** : Then define a variable([Data frame](https://pandas.pydata.org/pandas-docs/stable/reference/api/pandas.DataFrame.html))  df['Total Cases'] which will be the sum of all confirmed,recovered and death cases of each row\n",
    "<details>\n",
    "    <summary>Hint</summary>\n",
    "    df ['Total Cases'] = df [['Confirmed', 'Recovered', 'Deaths']] . sum(axis=1)\n",
    " </details>\n",
    " \n",
    " <br>\n",
    " \n",
    "> NOTE : You are free to choose your favorite [styles](https://matplotlib.org/3.1.0/gallery/style_sheets/style_sheets_reference.html)"
   ]
  },
  {
   "cell_type": "code",
   "execution_count": 8,
   "metadata": {},
   "outputs": [
    {
     "ename": "NameError",
     "evalue": "name 'df' is not defined",
     "output_type": "error",
     "traceback": [
      "\u001b[1;31m---------------------------------------------------------------------------\u001b[0m",
      "\u001b[1;31mNameError\u001b[0m                                 Traceback (most recent call last)",
      "\u001b[1;32m<ipython-input-8-9d88d0cfb64a>\u001b[0m in \u001b[0;36m<module>\u001b[1;34m\u001b[0m\n\u001b[1;32m----> 1\u001b[1;33m \u001b[0mdf\u001b[0m\u001b[1;33m.\u001b[0m\u001b[0mhead\u001b[0m\u001b[1;33m(\u001b[0m\u001b[1;33m)\u001b[0m\u001b[1;33m\u001b[0m\u001b[1;33m\u001b[0m\u001b[0m\n\u001b[0m\u001b[0;32m      2\u001b[0m \u001b[1;31m# Use df.head() command to output the df variable\u001b[0m\u001b[1;33m\u001b[0m\u001b[1;33m\u001b[0m\u001b[1;33m\u001b[0m\u001b[0m\n",
      "\u001b[1;31mNameError\u001b[0m: name 'df' is not defined"
     ]
    }
   ],
   "source": [
    "# Code for A mini-task\n",
    "\n",
    "# Code for B mini-task\n",
    "\n",
    "# Use df.head() command to output the df variable"
   ]
  },
  {
   "cell_type": "code",
   "execution_count": null,
   "metadata": {},
   "outputs": [],
   "source": []
  }
 ],
 "metadata": {
  "kernelspec": {
   "display_name": "Python 3",
   "language": "python",
   "name": "python3"
  },
  "language_info": {
   "codemirror_mode": {
    "name": "ipython",
    "version": 3
   },
   "file_extension": ".py",
   "mimetype": "text/x-python",
   "name": "python",
   "nbconvert_exporter": "python",
   "pygments_lexer": "ipython3",
   "version": "3.8.3"
  }
 },
 "nbformat": 4,
 "nbformat_minor": 4
}
