{
 "cells": [
  {
   "cell_type": "markdown",
   "metadata": {},
   "source": [
    "## Let's Plot Our Very First Plot 🤔\n",
    "\n",
    "The first plot that I decided to make was comparing total number of cases with confirmed, recovered and death case through a simple line graph.\n",
    "\n",
    "### Mini-tasks:\n",
    "* **A** : Define a variable 'worldwide_df' which will be the sum(aggregate) of all data frame('df') grouped by date\n",
    "<details>\n",
    "    <summary>Hint</summary>\n",
    "    Give 'Date' argument to .groupby function and use .sum() to get the desired sum('worldwide_df' variable)\n",
    "</details>\n",
    "<br>\n",
    "* **B**(Optional yet recommended) : Create a variable worldwide and initialise it with the plot of 'df' variable with appropriate size of figure.\n",
    "<details>\n",
    "    <summary>Hint</summary>\n",
    "    Use .plot() function on 'worldwide_df' and give appropraite values to 'figsize' argument\n",
    "</details>"
   ]
  },
  {
   "cell_type": "code",
   "execution_count": null,
   "metadata": {},
   "outputs": [],
   "source": [
    "# Worldwide Cases\n",
    "\n",
    "# Code for mini-task A\n",
    "\n",
    "# Code for mini-task B\n",
    "\n",
    "# Set Labels and title of the plot\n",
    "worldwide.set_xlabel('Dates') # Sets X-axis label\n",
    "worldwide.set_ylabel('Number of Cases Worldwide') # Sets Y-axis label\n",
    "worldwide.title.set_text('Worldwide COVID Insights') # Sets the main title of the plot\n",
    "\n",
    "# Output the plot\n",
    "plt.show()"
   ]
  },
  {
   "cell_type": "code",
   "execution_count": null,
   "metadata": {},
   "outputs": [],
   "source": []
  }
 ],
 "metadata": {
  "kernelspec": {
   "display_name": "Python 3",
   "language": "python",
   "name": "python3"
  },
  "language_info": {
   "codemirror_mode": {
    "name": "ipython",
    "version": 3
   },
   "file_extension": ".py",
   "mimetype": "text/x-python",
   "name": "python",
   "nbconvert_exporter": "python",
   "pygments_lexer": "ipython3",
   "version": "3.8.3"
  }
 },
 "nbformat": 4,
 "nbformat_minor": 4
}
