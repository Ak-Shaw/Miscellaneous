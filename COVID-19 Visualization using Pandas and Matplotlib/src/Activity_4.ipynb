{
 "cells": [
  {
   "cell_type": "markdown",
   "metadata": {},
   "source": [
    "## Let's now compare the Daily Cases and Daily Deaths of a country 😵\n",
    "\n",
    "Now we take our visualisation one step deeper. We will compare Daily Cases versus Daily Deaths of a specific country using bar charts.\n",
    "\n",
    "### Mini-tasks\n",
    "\n",
    "Daily cases means number of cases' changes everyday. This can be computed by subtracting data of one day from that of its previous day.\n",
    "\n",
    "* **A** : Intitialse two data frames, one for 'Daily confirmed' and one for 'Daily Deaths'.\n",
    "<details>\n",
    "    <summary>Hint</summary>\n",
    "        Subtract 'Confirmed/Deaths' data frame of one day from it's previous day by using .shift() function to shift the columns.\n",
    "    <details>\n",
    "    <summary>Still want some code hint !! 🤨</summary>\n",
    "country_df ['Daily Confirmed'] = country_df ['Confirmed'] . sub(country_df ['Confirmed'] . shift())\n",
    "</details>\n",
    "\n",
    "</details>\n",
    "\n",
    "Now we again use the same sub-plot approach as done in Activity-3\n",
    "\n",
    "* **B** :Initialise the figure to a variable 'fig' with appropriate figure size\n",
    "<details>\n",
    "    <summary>Hint</summary>\n",
    "    Use .figure() function on 'plt' to get the figure and also give appropraite parameter values to argument figsize\n",
    "</details>\n",
    "<br>\n",
    "\n",
    "* **C** : Define the axes as a variable 'ax' that will be the subplot\n",
    "<details>\n",
    "    <summary>Hint</summary>\n",
    "    Use .add_subplot(NNN) where NNN is NxN grid, Xth sub-plot, on 'fig'\n",
    "</details>\n",
    "\n",
    "Now there is a small function change ahead.\n",
    "<br>\n",
    "\n",
    "* **D** : Plot the bar charts of the two cases with appropriate arguments and labels\n",
    "<details>\n",
    "    <summary>Hint</summary>\n",
    "    Use .bar() instead of .plot() here \n",
    "    <details>\n",
    "    <summary>Still want some code hint !! 🤨</summary>\n",
    "        Bar chart code for daily Confirmed Cases - \n",
    "     ax.bar(country_df ['Date'], country_df ['Daily Confirmed'], color='r', label='India Daily Confirmed')\n",
    "</details>\n",
    "</details>\n"
   ]
  },
  {
   "cell_type": "code",
   "execution_count": null,
   "metadata": {},
   "outputs": [],
   "source": [
    "# India's Daily Confirmed Cases and Daily Deaths\n",
    "\n",
    "# Code for mini-task A\n",
    "# (Optional but Recommended) #Run country_df.head() to check that if the new columns are created or not\n",
    "\n",
    "# Code for mini-task B\n",
    "\n",
    "# Code for mini-task C\n",
    "\n",
    "# Code for mini-task D\n",
    "\n",
    "ax.set_xlabel('Date') # Sets X-axis label\n",
    "ax.set_ylabel('India Daily Cases and Deaths') # Sets Y-axis label\n",
    "ax.title.set_text('India Daily Cases and Deaths') # Sets plot's title\n",
    "\n",
    "plt.legend(loc='upper left') # Aligns the position of the legend to upper left side of the plot\n",
    "\n",
    "plt.show() # Displays the plot\n"
   ]
  },
  {
   "cell_type": "code",
   "execution_count": null,
   "metadata": {},
   "outputs": [],
   "source": []
  }
 ],
 "metadata": {
  "kernelspec": {
   "display_name": "Python 3",
   "language": "python",
   "name": "python3"
  },
  "language_info": {
   "codemirror_mode": {
    "name": "ipython",
    "version": 3
   },
   "file_extension": ".py",
   "mimetype": "text/x-python",
   "name": "python",
   "nbconvert_exporter": "python",
   "pygments_lexer": "ipython3",
   "version": "3.8.3"
  }
 },
 "nbformat": 4,
 "nbformat_minor": 4
}
