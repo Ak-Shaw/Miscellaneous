{
 "cells": [
  {
   "cell_type": "markdown",
   "metadata": {},
   "source": [
    "## Let's Plot Our Very First Plot 🤔\n",
    "\n",
    "The first plot that I decided to make was comparing total number of cases with confirmed, recovered and death case through a simple line graph.\n",
    "\n",
    "### Mini-tasks:\n",
    "* **A** : Define a variable 'worldwide_df' which will be the sum(aggregate) of all data frame('df') grouped by date\n",
    "<details>\n",
    "    <summary>Hint</summary>\n",
    "    Give 'Date' argument to .groupby function and use .sum() to get the desired sum('worldwide_df' variable)\n",
    "</details>\n",
    "<br>\n",
    "* **B**(Optional yet recommended) : Create a variable worldwide and initialise it with the plot of 'df' variable with appropriate size of figure.\n",
    "<details>\n",
    "    <summary>Hint</summary>\n",
    "    Use .plot() function on 'worldwide_df' and give appropraite values to 'figsize' argument\n",
    "</details>"
   ]
  },
  {
   "cell_type": "code",
   "execution_count": 1,
   "metadata": {},
   "outputs": [
    {
     "ename": "NameError",
     "evalue": "name 'worldwide' is not defined",
     "output_type": "error",
     "traceback": [
      "\u001b[1;31m---------------------------------------------------------------------------\u001b[0m",
      "\u001b[1;31mNameError\u001b[0m                                 Traceback (most recent call last)",
      "\u001b[1;32m<ipython-input-1-d5e3e4f76bdb>\u001b[0m in \u001b[0;36m<module>\u001b[1;34m\u001b[0m\n\u001b[0;32m      6\u001b[0m \u001b[1;33m\u001b[0m\u001b[0m\n\u001b[0;32m      7\u001b[0m \u001b[1;31m# Set Labels and title of the plot\u001b[0m\u001b[1;33m\u001b[0m\u001b[1;33m\u001b[0m\u001b[1;33m\u001b[0m\u001b[0m\n\u001b[1;32m----> 8\u001b[1;33m \u001b[0mworldwide\u001b[0m\u001b[1;33m.\u001b[0m\u001b[0mset_xlabel\u001b[0m\u001b[1;33m(\u001b[0m\u001b[1;34m'Date'\u001b[0m\u001b[1;33m)\u001b[0m\u001b[1;33m\u001b[0m\u001b[1;33m\u001b[0m\u001b[0m\n\u001b[0m\u001b[0;32m      9\u001b[0m \u001b[0mworldwide\u001b[0m\u001b[1;33m.\u001b[0m\u001b[0mset_ylabel\u001b[0m\u001b[1;33m(\u001b[0m\u001b[1;34m'# of Cases Worldwide'\u001b[0m\u001b[1;33m)\u001b[0m\u001b[1;33m\u001b[0m\u001b[1;33m\u001b[0m\u001b[0m\n\u001b[0;32m     10\u001b[0m \u001b[0mworldwide\u001b[0m\u001b[1;33m.\u001b[0m\u001b[0mtitle\u001b[0m\u001b[1;33m.\u001b[0m\u001b[0mset_text\u001b[0m\u001b[1;33m(\u001b[0m\u001b[1;34m'Worldwide COVID Insights'\u001b[0m\u001b[1;33m)\u001b[0m\u001b[1;33m\u001b[0m\u001b[1;33m\u001b[0m\u001b[0m\n",
      "\u001b[1;31mNameError\u001b[0m: name 'worldwide' is not defined"
     ]
    }
   ],
   "source": [
    "# Worldwide Cases\n",
    "\n",
    "# Code for mini-task A\n",
    "\n",
    "# Code for mini-task B\n",
    "\n",
    "# Set Labels and title of the plot\n",
    "worldwide.set_xlabel('Dates') # Sets X-axis label\n",
    "worldwide.set_ylabel('Number of Cases Worldwide') # Sets Y-axis label\n",
    "worldwide.title.set_text('Worldwide COVID Insights') # Sets the main title of the plot\n",
    "\n",
    "# Output the plot\n",
    "plt.show()"
   ]
  },
  {
   "cell_type": "code",
   "execution_count": null,
   "metadata": {},
   "outputs": [],
   "source": []
  }
 ],
 "metadata": {
  "kernelspec": {
   "display_name": "Python 3",
   "language": "python",
   "name": "python3"
  },
  "language_info": {
   "codemirror_mode": {
    "name": "ipython",
    "version": 3
   },
   "file_extension": ".py",
   "mimetype": "text/x-python",
   "name": "python",
   "nbconvert_exporter": "python",
   "pygments_lexer": "ipython3",
   "version": "3.8.3"
  }
 },
 "nbformat": 4,
 "nbformat_minor": 4
}
