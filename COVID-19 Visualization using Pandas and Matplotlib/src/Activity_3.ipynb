{
 "cells": [
  {
   "cell_type": "markdown",
   "metadata": {},
   "source": [
    "## Let's compare the trend of a country with the rest of the world 😨\n",
    "\n",
    "Let's now create a plot(similar to previous one) that compares the statistics of a specific country with the rest of the world\n",
    "\n",
    "### Mini-tasks:\n",
    "\n",
    "* **A** : Initialise a variable like country(make sure 'c' is not capital, else there may be conflicts); it's value will be sum of all cases of the specific country('Total Cases' data feed) of choice grouped by date, i.e. a specific subset of the data feed\n",
    "<details>\n",
    "    <summary>Hint</summary>\n",
    "        country_df = df[df['Country']=='India'].groupby(['Date']).sum()\n",
    "</details>\n",
    "\n",
    "\n",
    "> NOTE: I have chosen the country India as per my convenience. You may choose any country of your desire.\n",
    "\n",
    "Now I used a different approach here. I am to plot worldwide total cases and the country's total cases. So I will sub-plot both line charts using [add_subplot(XXX)](https://www.geeksforgeeks.org/matplotlib-figure-figure-add_subplot-in-python/) function \n",
    "\n",
    "<br>\n",
    "\n",
    "* **B** : Initialise the figure to a variable 'fig' with appropriate figure size\n",
    "<details>\n",
    "    <summary>Hint</summary>\n",
    "    Use .figure() function on 'plt' to get the figure and also give appropraite parameter values to argument figsize\n",
    "</details>\n",
    "\n",
    "<br>\n",
    "\n",
    "* **C** : Define the axes as a variable 'ax' that will be the subplot\n",
    "<details>\n",
    "    <summary>Hint</summary>\n",
    "    Use .add_subplot(NNN) where NNN is NxN grid, Xth sub-plot, on 'fig'\n",
    "</details>\n",
    "\n",
    "Now you can use the 'ax' variable to plot the two total cases' linear charts\n",
    "<br>\n",
    "\n",
    "* **D** : Plot the two linear charts by choosing 'Total Cases' of individual data feed with appropraite labels\n",
    "<details>\n",
    "    <summary>Hint</summary>\n",
    "    For worldwide the code would be like :\n",
    "        ax.plot (worldwide_df [['Total Cases']] , label='Worldwide')\n",
    "</details>"
   ]
  },
  {
   "cell_type": "code",
   "execution_count": null,
   "metadata": {},
   "outputs": [],
   "source": [
    "# India vs. Worldwide Trend\n",
    "\n",
    "# Code for mini-task A\n",
    "\n",
    "# Code for mini-task B\n",
    "\n",
    "# Code for mini-task C\n",
    "\n",
    "# Code for mini-task D\n",
    "\n",
    "ax.set_xlabel('Dates') # Sets X-axis label\n",
    "ax.set_ylabel('Number of Cases') # Sets Y-axis label\n",
    "ax.title.set_text('Worldwide trendline vs. India') # Sets the main title of the plot\n",
    "\n",
    "plt.legend(loc='upper left') # Aligns the position of the legend to upper left side of the plot\n",
    "\n",
    "plt.show() # Displays the plot\n"
   ]
  },
  {
   "cell_type": "code",
   "execution_count": null,
   "metadata": {},
   "outputs": [],
   "source": []
  }
 ],
 "metadata": {
  "kernelspec": {
   "display_name": "Python 3",
   "language": "python",
   "name": "python3"
  },
  "language_info": {
   "codemirror_mode": {
    "name": "ipython",
    "version": 3
   },
   "file_extension": ".py",
   "mimetype": "text/x-python",
   "name": "python",
   "nbconvert_exporter": "python",
   "pygments_lexer": "ipython3",
   "version": "3.8.3"
  }
 },
 "nbformat": 4,
 "nbformat_minor": 4
}
