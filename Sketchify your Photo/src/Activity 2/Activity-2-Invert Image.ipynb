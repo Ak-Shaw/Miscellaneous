{
 "cells": [
  {
   "cell_type": "markdown",
   "metadata": {},
   "source": [
    "## Obtain a negative of an Image\n",
    "\n",
    "A negative of the image can be obtained by \"inverting\" the grayscale value of every pixel. Since by default grayscale values are represented as integers in the range [0,255] (i.e., precision CV_8U), the \"inverse\" of a grayscale value x is simply 255-x:"
   ]
  },
  {
   "cell_type": "markdown",
   "metadata": {},
   "source": [
    "There 2 different ways to transform an image to negative using the OpenCV module. The first method explains negative transformation step by step and the second method explains negative transformation of an image in single line.\n",
    "\n",
    "**1st method: Steps for negative transformation**\n",
    "\n",
    "1. Read an image\n",
    "2. Get height and width of the image\n",
    "3. Each pixel contains 3 channels. So, take a pixel value and collect 3 channels in 3 different variables.\n",
    "4. Negate 3 pixels values from 255 and store them again in pixel used before.\n",
    "5. Do it for all pixel values present in image.\n",
    "\n",
    "**2nd method: Steps for negative transformation**\n",
    "\n",
    "1. Read an image and store it in a variable.\n",
    "2. Subtract the variable from 1 and store the value in another variable.\n",
    "3. All done. You successfully done the negative transformation."
   ]
  },
  {
   "cell_type": "code",
   "execution_count": null,
   "metadata": {},
   "outputs": [],
   "source": [
    "#Import the image input/output library"
   ]
  },
  {
   "cell_type": "markdown",
   "metadata": {},
   "source": [
    "<details>\n",
    "    <summary>Solution</summary>\n",
    "<p>\n",
    "    \n",
    "```python\n",
    "import imageio\n",
    "```\n",
    "    \n",
    "</p>\n",
    "</details>"
   ]
  },
  {
   "cell_type": "code",
   "execution_count": null,
   "metadata": {},
   "outputs": [],
   "source": [
    "# Read the Image and Covert it to gray scale"
   ]
  },
  {
   "cell_type": "markdown",
   "metadata": {},
   "source": [
    "<details>\n",
    "    <summary>Solution</summary>\n",
    "<p>\n",
    "    \n",
    "```python\n",
    "\n",
    "s = imageio.imread(img)\n",
    "g=grayscale(s)\n",
    "\n",
    "```\n",
    "    \n",
    "</p>\n",
    "</details>"
   ]
  },
  {
   "cell_type": "code",
   "execution_count": null,
   "metadata": {},
   "outputs": [],
   "source": [
    "# Implement basic logic of inverting an image"
   ]
  },
  {
   "cell_type": "markdown",
   "metadata": {},
   "source": [
    "<details>\n",
    "    <summary>Solution</summary>\n",
    "<p>\n",
    "    \n",
    "```python\n",
    "i = 255-g\n",
    "\n",
    "```\n",
    "    \n",
    "</p>\n",
    "</details>"
   ]
  },
  {
   "attachments": {
    "invert.jpg": {
     "image/jpeg": "[encoded data removed]"
    }
   },
   "cell_type": "markdown",
   "metadata": {},
   "source": [
    "![invert.jpg](attachment:invert.jpg)"
   ]
  },
  {
   "cell_type": "markdown",
   "metadata": {},
   "source": [
    "### Further Read \n",
    "Invering using Pillow: https://note.nkmk.me/en/python-pillow-invert/"
   ]
  },
  {
   "cell_type": "code",
   "execution_count": null,
   "metadata": {},
   "outputs": [],
   "source": []
  }
 ],
 "metadata": {
  "kernelspec": {
   "display_name": "Python 3",
   "language": "python",
   "name": "python3"
  },
  "language_info": {
   "codemirror_mode": {
    "name": "ipython",
    "version": 3
   },
   "file_extension": ".py",
   "mimetype": "text/x-python",
   "name": "python",
   "nbconvert_exporter": "python",
   "pygments_lexer": "ipython3",
   "version": "3.7.6"
  }
 },
 "nbformat": 4,
 "nbformat_minor": 4
}
