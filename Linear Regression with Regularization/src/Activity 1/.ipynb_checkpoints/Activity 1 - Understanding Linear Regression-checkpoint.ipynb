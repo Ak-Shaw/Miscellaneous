{
 "cells": [
  {
   "cell_type": "markdown",
   "metadata": {},
   "source": [
    "# Understanding Linear Regression\n",
    "\n",
    "Before understanding what's linear regression, let us first learn about some key terms that will be used extensively in the further activity.\n",
    "\n",
    "1. Target: It is the feature that we want to predict.\n",
    "2. Error: It is the difference between the actual and the predicted value. It is also referred to as a Residual.\n",
    "3. Cost Function: It defines the total error of the model. It is this function that the model tries to optimize. In the case of Linear Regressionm, it is the mean of the sum of all the errors in the dataset, popularly known as the **mean squared error**.\n",
    "4. Gradient Descent: It tries to find the best set of coefficients which optimizes the Cost Function.\n",
    "\n",
    "---\n",
    "\n",
    "Now, talking about Linear Regression, it tries to fit a straight line between variables which optimizes the cost function or which explains the maximum variance of the target.\n",
    "\n",
    "The Equation of the straight line is **y = mx+c** where m is the slope of **x** and **c** is the intercept. This equation follows only when we have one independant feature. As the feature increases, the number of x's increases and the number of slopes increases.\n",
    "\n",
    "Whole process of Linear Regression can be summarized as:\n",
    "1. Randomly initialise the slopes/coefficients.\n",
    "2. Use Gradient Descent\n",
    "\n",
    ">Calculate Cost<br>\n",
    ">Calculate the slope of the cost function.<br>\n",
    ">Move in the direction of decreasing cost function by calculating the derivative.<br>\n",
    "Update the parameters.<br>\n",
    "Repeat the above steps untill the minimum value of cost function is not found.\n",
    "\n",
    "This was just a quick recap of what a Linear Regression does. If you want to have a detailed study about this algorithm, I have added links to youtube videos under the **Additional Material** at the last of the activity. So, you can have a look to that as well.\n",
    "\n",
    "For now, enough of theory. Let's begin with implementing Linear Regression and see what it can do.\n",
    "\n",
    "---\n",
    "\n",
    "## Importing Libraries\n",
    "\n",
    "We start by importing some libraries which will be required in the future."
   ]
  },
  {
   "cell_type": "code",
   "execution_count": null,
   "metadata": {},
   "outputs": [],
   "source": [
    "import pandas as pd #to handle the dataset\n",
    "import matplotlib.pyplot as plt #to draw plots\n",
    "import seaborn as sns #custom library to plot more visually appealing plots\n",
    "sns.set()"
   ]
  },
  {
   "cell_type": "markdown",
   "metadata": {},
   "source": [
    "## Loading the Data"
   ]
  },
  {
   "cell_type": "markdown",
   "metadata": {},
   "source": [
    "Tasks:\n",
    "* read the csv file from the path: '../../data/data_cleaned.csv' using pandas.\n",
    "* look at top 5 rows of the dataset."
   ]
  },
  {
   "cell_type": "code",
   "execution_count": null,
   "metadata": {},
   "outputs": [],
   "source": [
    "# read the file\n",
    "#display top 5 rows"
   ]
  },
  {
   "cell_type": "markdown",
   "metadata": {},
   "source": [
    "<details>\n",
    "<summary>Solution</summary>\n",
    "<p>\n",
    "    \n",
    "```python\n",
    "data = pd.read_csv('../../data/data_cleaned.csv')\n",
    "data.head()\n",
    "```\n",
    "    \n",
    "</p>\n",
    "</details>"
   ]
  },
  {
   "cell_type": "markdown",
   "metadata": {},
   "source": [
    "Here, we have to predict the price of a house based on other features. Hence, price will be our target or dependant feature. Whereas others will be the independant features.\n",
    "\n",
    "Now, look at the shape of the data using **shape** attribute of the pandas DataFrame."
   ]
  },
  {
   "cell_type": "code",
   "execution_count": null,
   "metadata": {},
   "outputs": [],
   "source": [
    "#have a look at the shape of data"
   ]
  },
  {
   "cell_type": "markdown",
   "metadata": {},
   "source": [
    "<details>\n",
    "<summary>Solution</summary>\n",
    "<p>\n",
    "    \n",
    "```python\n",
    "data.shape\n",
    "```\n",
    "    \n",
    "</p>\n",
    "</details>"
   ]
  },
  {
   "cell_type": "markdown",
   "metadata": {},
   "source": [
    "We can see that out data has **4600 records and 7 columns**"
   ]
  },
  {
   "cell_type": "markdown",
   "metadata": {},
   "source": [
    "## Data Analysis\n",
    "\n",
    "Data Analysis is usually done before hand to see if there is anything in the data which can affect the performance of the model. Here, we will draw a pairplot from seaborn's library to visualize the whole dataset at once. A pairplot plots all the pairs of features that are present in the data. This way we can have a more compact and broader view of the data.\n",
    "\n",
    "* Call the *pairplot* function from seaborn library for the whole dataset."
   ]
  },
  {
   "cell_type": "code",
   "execution_count": null,
   "metadata": {},
   "outputs": [],
   "source": [
    "#plot a pairplot"
   ]
  },
  {
   "cell_type": "markdown",
   "metadata": {},
   "source": [
    "<details>\n",
    "<summary>Solution</summary>\n",
    "<p>\n",
    "    \n",
    "```python\n",
    "sns.pairplot(data)\n",
    "```\n",
    "    \n",
    "</p>\n",
    "</details>"
   ]
  },
  {
   "cell_type": "markdown",
   "metadata": {},
   "source": [
    "There are some conclusions that can be drawn from above pairplot. These are:\n",
    "1. In the last row, we can see 2-3 points that are unusually higher than the rest of the data. These are typically known as **outliers**. But for the sake of simplicity, we will not dive into its details.\n",
    "2. We can see a linear relationship between sqft_living and bathrooms which seems logical."
   ]
  },
  {
   "cell_type": "markdown",
   "metadata": {},
   "source": [
    "## Train and Test Splits\n",
    "\n",
    "Now, we will divide our data into train and test splits. We will train our model on the train dataset and then test our model's performance on the test dataset.But first, let us seperate our dependand variable with the rest of independant variable.\n",
    "* store all the independant variables in a variable **X**.\n",
    "* store the dependant variable in a variable **y**."
   ]
  },
  {
   "cell_type": "code",
   "execution_count": null,
   "metadata": {},
   "outputs": [],
   "source": [
    "# store independant variable in X\n",
    "#store dependant variable in y"
   ]
  },
  {
   "cell_type": "markdown",
   "metadata": {},
   "source": [
    "<details>\n",
    "<summary>Solution</summary>\n",
    "<p>\n",
    "    \n",
    "```python\n",
    "X = data.drop('price', axis = 1) #independant features\n",
    "y = data.price #dependant features\n",
    "```\n",
    "    \n",
    "</p>\n",
    "</details>"
   ]
  },
  {
   "cell_type": "markdown",
   "metadata": {},
   "source": [
    "Now, split them into training and test datasets in the ratio of 8:2 using **train_test_split** function. There should be 4 variables namely **X_train, X_test, y_train and y_test**"
   ]
  },
  {
   "cell_type": "code",
   "execution_count": null,
   "metadata": {},
   "outputs": [],
   "source": [
    "#import the function\n",
    "from sklearn.model_selection import train_test_split\n",
    "\n",
    "#call the train_test_split function"
   ]
  },
  {
   "cell_type": "markdown",
   "metadata": {},
   "source": [
    "<details>\n",
    "<summary>Solution</summary>\n",
    "<p>\n",
    "    \n",
    "```python\n",
    "X_train, X_test, y_train, y_test = train_test_split(X, y, test_size= 0.2, random_state= 42, shuffle= True)\n",
    "```\n",
    "    \n",
    "</p>\n",
    "</details>\n",
    "\n",
    "\n",
    "The shape of these variables will be like:"
   ]
  },
  {
   "cell_type": "code",
   "execution_count": null,
   "metadata": {},
   "outputs": [],
   "source": [
    "print(\"X_train: \", X_train.shape)\n",
    "print('y_train: ', y_train.shape)\n",
    "print('X_test: ', X_test.shape)\n",
    "print('y_test: ', y_test.shape)"
   ]
  },
  {
   "cell_type": "markdown",
   "metadata": {},
   "source": [
    "## Fitting a Model\n",
    "\n",
    "* Initialize and fit the model to training data"
   ]
  },
  {
   "cell_type": "code",
   "execution_count": null,
   "metadata": {},
   "outputs": [],
   "source": [
    "#import the model\n",
    "from sklearn.linear_model import LinearRegression\n",
    "\n",
    " #initialize the model\n",
    "\n",
    " #fit the model to the training data"
   ]
  },
  {
   "cell_type": "markdown",
   "metadata": {},
   "source": [
    "<details>\n",
    "<summary>Solution</summary>\n",
    "<p>\n",
    "    \n",
    "```python\n",
    "model = LinearRegression()\n",
    "model.fit(X_train, y_train)\n",
    "```\n",
    "    \n",
    "</p>\n",
    "</details>"
   ]
  },
  {
   "cell_type": "markdown",
   "metadata": {},
   "source": [
    "## Evaluate a model\n",
    "\n",
    "Now, evaluate the model by:\n",
    "* making predictions on training data\n",
    "* making predictions on test data"
   ]
  },
  {
   "cell_type": "code",
   "execution_count": null,
   "metadata": {},
   "outputs": [],
   "source": [
    "#import the evaluation metric\n",
    "from sklearn.metrics import mean_squared_error\n",
    "\n",
    "#calculate error on training data\n",
    "\n",
    "#calculate error on testing data\n",
    "\n",
    "#print the errors"
   ]
  },
  {
   "cell_type": "markdown",
   "metadata": {},
   "source": [
    "<details>\n",
    "<summary>Solution</summary>\n",
    "<p>\n",
    "    \n",
    "```python\n",
    "train_error = mean_squared_error(y_train, model.predict(X_train))\n",
    "test_error = mean_squared_error(y_test, model.predict(X_test))\n",
    "print('Training Error: ', train_error)\n",
    "print('Testing Error: ', test_error)\n",
    "```\n",
    "    \n",
    "</p>\n",
    "</details>"
   ]
  },
  {
   "cell_type": "markdown",
   "metadata": {},
   "source": [
    "## Make Predictions"
   ]
  },
  {
   "cell_type": "code",
   "execution_count": null,
   "metadata": {},
   "outputs": [],
   "source": [
    "bedrooms = int(input(\"Bedrooms: \"))\n",
    "bathrooms = float(input('Bathrooms: '))\n",
    "sqft_living = float(input('sqft_living: '))\n",
    "sqft_lot = float(input('sqft_lot: '))\n",
    "floors = float(input('Floors: '))\n",
    "condition = int(input('Condition: '))\n",
    "\n",
    "predicted_price = model.predict([[bedrooms, bathrooms, sqft_living, sqft_lot, floors, condition]])\n",
    "\n",
    "print(\"Expected Price: \", predicted_price)"
   ]
  },
  {
   "cell_type": "markdown",
   "metadata": {},
   "source": [
    "**Congratulations!!! You have just completed your first activity and are now ready to dive deeper into the concepts of regression.**\n",
    "But, before moving on, have a look at the resources in the next section to have a more solid understanding of the theoretical concepts behind Linear Regression.\n",
    "\n",
    "## Additional Resources\n",
    "\n",
    "1. Linear Regression Concepts: https://www.youtube.com/watch?v=nk2CQITm_eo&list=PLblh5JKOoLUICTaGLRoHQDuF_7q2GfuJF&index=9\n",
    "2. Data Analysis Introduction: https://towardsdatascience.com/exploratory-data-analysis-8fc1cb20fd15\n",
    "3. In-Depth Data Analysis: https://www.analyticsvidhya.com/blog/2016/01/guide-data-exploration/"
   ]
  }
 ],
 "metadata": {
  "kernelspec": {
   "display_name": "Python 3",
   "language": "python",
   "name": "python3"
  },
  "language_info": {
   "codemirror_mode": {
    "name": "ipython",
    "version": 3
   },
   "file_extension": ".py",
   "mimetype": "text/x-python",
   "name": "python",
   "nbconvert_exporter": "python",
   "pygments_lexer": "ipython3",
   "version": "3.7.6"
  }
 },
 "nbformat": 4,
 "nbformat_minor": 4
}
