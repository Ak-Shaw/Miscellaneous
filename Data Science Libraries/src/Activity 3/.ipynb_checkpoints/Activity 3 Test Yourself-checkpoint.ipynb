{
 "cells": [
  {
   "cell_type": "markdown",
   "metadata": {},
   "source": [
    "## Test Yourself"
   ]
  },
  {
   "cell_type": "markdown",
   "metadata": {},
   "source": [
    "The aim of this activity is to test your basic undersatnding for matplotlib and pandas. So let us get started."
   ]
  },
  {
   "cell_type": "markdown",
   "metadata": {},
   "source": [
    "### 1. Create a dataframe containing student names and their marks which are as follows:\n",
    "   \n",
    "1. Rashi - 45\n",
    "2. Anurag - 78\n",
    "3. Amir - 86\n",
    "4. Gaurang - 55\n",
    "5. Husain - 90"
   ]
  },
  {
   "cell_type": "code",
   "execution_count": 1,
   "metadata": {},
   "outputs": [],
   "source": [
    "# write your code here"
   ]
  },
  {
   "cell_type": "markdown",
   "metadata": {},
   "source": [
    "### 2. Read a dataset from the given kaggle website\n",
    "https://www.kaggle.com/shree1992/housedata?select=data.csv"
   ]
  },
  {
   "cell_type": "code",
   "execution_count": 2,
   "metadata": {},
   "outputs": [],
   "source": [
    "# write your code here"
   ]
  },
  {
   "cell_type": "markdown",
   "metadata": {},
   "source": [
    "### 3. Filter the above read dataset into required fields (drop \"condition\" & \"waterfront\" columns)"
   ]
  },
  {
   "cell_type": "code",
   "execution_count": 3,
   "metadata": {},
   "outputs": [],
   "source": [
    "# write your code here"
   ]
  },
  {
   "cell_type": "markdown",
   "metadata": {},
   "source": [
    "### 4. Plot a corelation between no. of bedrooms on y-axis and price of the house on the x-axis of the above dataset using scatter plot.\n",
    "\n",
    "Let x-label be price of the house\n",
    "\n",
    "Let y-label be no. of bedroom\n",
    "\n",
    "Let graph title be price vs bedrooms"
   ]
  },
  {
   "cell_type": "code",
   "execution_count": 4,
   "metadata": {},
   "outputs": [],
   "source": [
    "# write your code here"
   ]
  },
  {
   "cell_type": "markdown",
   "metadata": {},
   "source": [
    "### 5. Visualize the dataset using line plots for square feet area on x-axis and no. of floors on the y-axis.\n",
    "\n",
    "Let x-label be square feet area of the house\n",
    "\n",
    "Let y-label be no. of floors\n",
    "\n",
    "let graph title be square feet area vs no. of floors"
   ]
  },
  {
   "cell_type": "code",
   "execution_count": 5,
   "metadata": {},
   "outputs": [],
   "source": [
    "# write your code here"
   ]
  },
  {
   "cell_type": "markdown",
   "metadata": {},
   "source": [
    "### 6. Identify the corelation between no. of floors, price of the house, no. of bedrooms and no. of bathrooms\n",
    "\n",
    "Hint: use heatmap"
   ]
  },
  {
   "cell_type": "code",
   "execution_count": 6,
   "metadata": {},
   "outputs": [],
   "source": [
    "# write your code here"
   ]
  },
  {
   "cell_type": "markdown",
   "metadata": {},
   "source": [
    "## More Resources:\n",
    "\n",
    "Other Important Libraries: https://www.dataquest.io/blog/15-python-libraries-for-data-science/\n",
    "\n",
    "Getting started with data science: https://towardsdatascience.com/the-ultimate-guide-to-getting-started-in-data-science-234149684ef7"
   ]
  }
 ],
 "metadata": {
  "kernelspec": {
   "display_name": "Python 3",
   "language": "python",
   "name": "python3"
  },
  "language_info": {
   "codemirror_mode": {
    "name": "ipython",
    "version": 3
   },
   "file_extension": ".py",
   "mimetype": "text/x-python",
   "name": "python",
   "nbconvert_exporter": "python",
   "pygments_lexer": "ipython3",
   "version": "3.7.6"
  }
 },
 "nbformat": 4,
 "nbformat_minor": 4
}
